{
 "cells": [
  {
   "cell_type": "markdown",
   "id": "768d5324",
   "metadata": {},
   "source": [
    "## 📃 Dynamic Array "
   ]
  },
  {
   "cell_type": "code",
   "execution_count": 1,
   "id": "b9686f9e",
   "metadata": {},
   "outputs": [],
   "source": [
    "import ctypes\n",
    "\n",
    "class List:\n",
    "\n",
    "  def __init__(self):\n",
    "    self.size = 1\n",
    "    self.n=0\n",
    "\n",
    "    # create a ctype array with size = self.size\n",
    "    self.A=self._make_array(self.size)\n",
    "\n",
    "  def __len__(self):\n",
    "    return self.n\n",
    "\n",
    "  def __str__(self):\n",
    "    result = ''\n",
    "    for i in range(self.n):\n",
    "      result = result + str(self.A[i]) + ','\n",
    "    return '[' + result[:-1] + ']'\n",
    "\n",
    "  def __getitem__(self,index):\n",
    "    if 0<=index<self.n:\n",
    "      return self.A[index]\n",
    "    else:\n",
    "      return 'IndexError: Index out of range'\n",
    "\n",
    "  def __delitem__(self, index):\n",
    "    # This allows del L[index] syntax\n",
    "    result = self.delete(index)\n",
    "    if isinstance(result, str) and result.startswith(\"Error\"):\n",
    "      raise IndexError(result)\n",
    "\n",
    "  def pop(self):\n",
    "    if self.n==0:\n",
    "      return 'Empty List'\n",
    "    print(self.A[self.n-1])\n",
    "    self.n=self.n -1\n",
    "\n",
    "  def clear(self):\n",
    "    self.n=0\n",
    "    self.size=1\n",
    "\n",
    "  def find(self,item):\n",
    "    for i in range(self.n):\n",
    "      if self.A[i]==item:\n",
    "        return i\n",
    "    return \"value error: item not found\"\n",
    "\n",
    "  def delete(self, index):\n",
    "    # Check if the list is empty\n",
    "    if self.n == 0:\n",
    "      return \"Error: Cannot delete from empty list\"\n",
    "    \n",
    "    # Check if index is valid\n",
    "    if index < 0 or index >= self.n:\n",
    "      return \"Error: Index out of range\"\n",
    "    \n",
    "    # Store the item to be deleted (optional, for return value)\n",
    "    deleted_item = self.A[index]\n",
    "    \n",
    "    # Shift all elements to the left from index+1 to n-1\n",
    "    for i in range(index, self.n-1):\n",
    "      self.A[i] = self.A[i+1]\n",
    "    \n",
    "    # Decrease the size\n",
    "    self.n = self.n - 1\n",
    "    \n",
    "    # Optional: resize array if it's too large (shrink when 1/4 full)\n",
    "    if self.n > 0 and self.n == self.size // 4:\n",
    "      self._resize(self.size // 2)\n",
    "    \n",
    "    return deleted_item\n",
    "\n",
    "  def remove(self, item):\n",
    "    # Find the item and delete it\n",
    "    index = self.find(item)\n",
    "    if isinstance(index, str):  # If find returns error message\n",
    "      return \"Error: Item not found\"\n",
    "    return self.delete(index)\n",
    "  \n",
    "  def insert(self,pos ,item):\n",
    "    if self.n == self.size:\n",
    "      # resize\n",
    "      self._resize(self.size*2)\n",
    "\n",
    "    # shift all elements to right\n",
    "    for i in range(self.n, pos ,-1):\n",
    "      self.A[i] = self.A[i-1]\n",
    "\n",
    "    # insert new item\n",
    "    self.A[pos] = item\n",
    "    self.n = self.n + 1\n",
    "\n",
    "  def append(self,item):\n",
    "    if self.n == self.size:\n",
    "      # resize\n",
    "      self._resize(self.size*2)\n",
    "\n",
    "    # append new item\n",
    "    self.A[self.n] = item\n",
    "    self.n +=1\n",
    "\n",
    "  def _resize(self,new_capacity):\n",
    "    # create a new array with new capacity\n",
    "    B = self._make_array(new_capacity)\n",
    "    self.size=new_capacity\n",
    "\n",
    "    # copy the content of A to B\n",
    "    for i in range(self.n):\n",
    "      B[i] = self.A[i]\n",
    "\n",
    "    # reassign A\n",
    "    self.A=B\n",
    "\n",
    "\n",
    "  def _make_array(self,capacity):\n",
    "    # creates a ctype array(static , referential) with size capacity\n",
    "    return (capacity*ctypes.py_object)()"
   ]
  },
  {
   "cell_type": "code",
   "execution_count": 2,
   "id": "fbc4283d",
   "metadata": {},
   "outputs": [],
   "source": [
    "L=List()"
   ]
  },
  {
   "cell_type": "code",
   "execution_count": 3,
   "id": "fccc2f9e",
   "metadata": {},
   "outputs": [],
   "source": [
    "L.append('hello')\n",
    "L.append(3.4)\n",
    "L.append(True)\n",
    "L.append(100)"
   ]
  },
  {
   "cell_type": "code",
   "execution_count": 4,
   "id": "9e75a648",
   "metadata": {},
   "outputs": [],
   "source": [
    "L.append(45)"
   ]
  },
  {
   "cell_type": "code",
   "execution_count": 5,
   "id": "38515eb1",
   "metadata": {},
   "outputs": [
    {
     "data": {
      "text/plain": [
       "5"
      ]
     },
     "execution_count": 5,
     "metadata": {},
     "output_type": "execute_result"
    }
   ],
   "source": [
    "len(L)"
   ]
  },
  {
   "cell_type": "code",
   "execution_count": 6,
   "id": "5529aacf",
   "metadata": {},
   "outputs": [
    {
     "name": "stdout",
     "output_type": "stream",
     "text": [
      "[hello,3.4,True,100,45]\n"
     ]
    }
   ],
   "source": [
    "print(L)"
   ]
  },
  {
   "cell_type": "code",
   "execution_count": 7,
   "id": "fe37397e",
   "metadata": {},
   "outputs": [
    {
     "data": {
      "text/plain": [
       "True"
      ]
     },
     "execution_count": 7,
     "metadata": {},
     "output_type": "execute_result"
    }
   ],
   "source": [
    "L[2]"
   ]
  },
  {
   "cell_type": "code",
   "execution_count": 8,
   "id": "7b09817a",
   "metadata": {},
   "outputs": [],
   "source": [
    "# L.clear()"
   ]
  },
  {
   "cell_type": "code",
   "execution_count": 9,
   "id": "2dab5417",
   "metadata": {},
   "outputs": [],
   "source": [
    "L.insert(0,'L.')"
   ]
  },
  {
   "cell_type": "code",
   "execution_count": 10,
   "id": "a4ebd3d7",
   "metadata": {},
   "outputs": [
    {
     "data": {
      "text/plain": [
       "2"
      ]
     },
     "execution_count": 10,
     "metadata": {},
     "output_type": "execute_result"
    }
   ],
   "source": [
    "L.find(3.4)"
   ]
  },
  {
   "cell_type": "code",
   "execution_count": 11,
   "id": "de786f46",
   "metadata": {},
   "outputs": [],
   "source": [
    "del L[3]"
   ]
  },
  {
   "cell_type": "code",
   "execution_count": 12,
   "id": "c36c4ba6",
   "metadata": {},
   "outputs": [
    {
     "name": "stdout",
     "output_type": "stream",
     "text": [
      "List after deletion: [L.,hello,3.4,100,45]\n"
     ]
    }
   ],
   "source": [
    "# Print list after deletion\n",
    "print(\"List after deletion:\", L)"
   ]
  },
  {
   "cell_type": "code",
   "execution_count": 13,
   "id": "0e86c1da",
   "metadata": {},
   "outputs": [
    {
     "data": {
      "text/plain": [
       "3.4"
      ]
     },
     "execution_count": 13,
     "metadata": {},
     "output_type": "execute_result"
    }
   ],
   "source": [
    "L.remove(3.4)"
   ]
  },
  {
   "cell_type": "markdown",
   "id": "5934fef1",
   "metadata": {},
   "source": [
    "## 📋 Linked List"
   ]
  }
 ],
 "metadata": {
  "kernelspec": {
   "display_name": "Python 3",
   "language": "python",
   "name": "python3"
  },
  "language_info": {
   "codemirror_mode": {
    "name": "ipython",
    "version": 3
   },
   "file_extension": ".py",
   "mimetype": "text/x-python",
   "name": "python",
   "nbconvert_exporter": "python",
   "pygments_lexer": "ipython3",
   "version": "3.12.1"
  }
 },
 "nbformat": 4,
 "nbformat_minor": 5
}
