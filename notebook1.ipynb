{
 "cells": [
  {
   "cell_type": "code",
   "execution_count": 2,
   "id": "b29c3b30",
   "metadata": {},
   "outputs": [],
   "source": [
    "import ctypes "
   ]
  },
  {
   "cell_type": "code",
   "execution_count": 3,
   "id": "b9686f9e",
   "metadata": {},
   "outputs": [],
   "source": [
    "import ctypes\n",
    "\n",
    "class List:\n",
    "\n",
    "  def __init__(self):\n",
    "    self.size = 1\n",
    "    self.n=0\n",
    "\n",
    "    # create a ctype array with size = self.sizef\n",
    "    self.A=self._make_array(self.size)\n",
    "\n",
    "  def __len__(self):\n",
    "    return self.n\n",
    "\n",
    "  def _str_(self):\n",
    "    result = ''\n",
    "    for i in range(self.n):\n",
    "      result = result + str(self.A[i]) + ','\n",
    "    return '[' + result[:-1] + ']'\n",
    "\n",
    "  def __getitem__(self,index):\n",
    "    if 0<=index<self.n:\n",
    "      return self.A[index]\n",
    "    else:\n",
    "      return 'IndexError: Index out of range'\n",
    "\n",
    "  def pop():\n",
    "    if self.n==0:\n",
    "      return 'Empty List'\n",
    "    print(self.A[self.n-1])\n",
    "    self.n=self.n -1\n",
    "\n",
    "  def clear(self):\n",
    "    self.n=0\n",
    "    self.size=1\n",
    "\n",
    "\n",
    "\n",
    "  def append(self,item):\n",
    "    if self.n == self.size:\n",
    "      # resize\n",
    "      self._resize(self.size*2)\n",
    "\n",
    "    # append new item\n",
    "    self.A[self.n] = item\n",
    "    self.n +=1\n",
    "\n",
    "  def _resize(self,new_capacity):\n",
    "    # create a new array with new capacity\n",
    "    B = self._make_array(new_capacity)\n",
    "    self.size=new_capacity\n",
    "\n",
    "    # copy the content of A to B\n",
    "    for i in range(self.n):\n",
    "      B[i] = self.A[i]\n",
    "\n",
    "    # reassign A\n",
    "    self.A=B\n",
    "\n",
    "\n",
    "  def _make_array(self,capacity):\n",
    "    # creates a ctype array(static , refrential) with size capacity\n",
    "    return (capacity*ctypes.py_object)()"
   ]
  },
  {
   "cell_type": "code",
   "execution_count": 4,
   "id": "fbc4283d",
   "metadata": {},
   "outputs": [],
   "source": [
    "L=List()"
   ]
  },
  {
   "cell_type": "code",
   "execution_count": 5,
   "id": "fccc2f9e",
   "metadata": {},
   "outputs": [],
   "source": [
    "L.append('hello')\n",
    "L.append(3.4)\n",
    "L.append(True)\n",
    "L.append(100)"
   ]
  },
  {
   "cell_type": "code",
   "execution_count": 6,
   "id": "9e75a648",
   "metadata": {},
   "outputs": [],
   "source": [
    "L.append(45)"
   ]
  },
  {
   "cell_type": "code",
   "execution_count": 7,
   "id": "38515eb1",
   "metadata": {},
   "outputs": [
    {
     "data": {
      "text/plain": [
       "5"
      ]
     },
     "execution_count": 7,
     "metadata": {},
     "output_type": "execute_result"
    }
   ],
   "source": [
    "len(L)"
   ]
  },
  {
   "cell_type": "code",
   "execution_count": 8,
   "id": "5529aacf",
   "metadata": {},
   "outputs": [
    {
     "name": "stdout",
     "output_type": "stream",
     "text": [
      "<__main__.List object at 0x7240280fa780>\n"
     ]
    }
   ],
   "source": [
    "print(L)"
   ]
  },
  {
   "cell_type": "code",
   "execution_count": 9,
   "id": "fe37397e",
   "metadata": {},
   "outputs": [
    {
     "data": {
      "text/plain": [
       "True"
      ]
     },
     "execution_count": 9,
     "metadata": {},
     "output_type": "execute_result"
    }
   ],
   "source": [
    "L[2]"
   ]
  },
  {
   "cell_type": "code",
   "execution_count": 10,
   "id": "5ef39008",
   "metadata": {},
   "outputs": [
    {
     "ename": "TypeError",
     "evalue": "List.pop() takes 0 positional arguments but 1 was given",
     "output_type": "error",
     "traceback": [
      "\u001b[31m---------------------------------------------------------------------------\u001b[39m",
      "\u001b[31mTypeError\u001b[39m                                 Traceback (most recent call last)",
      "\u001b[36mCell\u001b[39m\u001b[36m \u001b[39m\u001b[32mIn[10]\u001b[39m\u001b[32m, line 1\u001b[39m\n\u001b[32m----> \u001b[39m\u001b[32m1\u001b[39m \u001b[43mL\u001b[49m\u001b[43m.\u001b[49m\u001b[43mpop\u001b[49m\u001b[43m(\u001b[49m\u001b[43m)\u001b[49m\n",
      "\u001b[31mTypeError\u001b[39m: List.pop() takes 0 positional arguments but 1 was given"
     ]
    }
   ],
   "source": [
    "L.pop()"
   ]
  },
  {
   "cell_type": "code",
   "execution_count": 11,
   "id": "7b09817a",
   "metadata": {},
   "outputs": [],
   "source": [
    "L.clear()"
   ]
  }
 ],
 "metadata": {
  "kernelspec": {
   "display_name": "Python 3",
   "language": "python",
   "name": "python3"
  },
  "language_info": {
   "codemirror_mode": {
    "name": "ipython",
    "version": 3
   },
   "file_extension": ".py",
   "mimetype": "text/x-python",
   "name": "python",
   "nbconvert_exporter": "python",
   "pygments_lexer": "ipython3",
   "version": "3.12.1"
  }
 },
 "nbformat": 4,
 "nbformat_minor": 5
}
